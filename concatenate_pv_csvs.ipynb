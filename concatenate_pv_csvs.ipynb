{
 "cells": [
  {
   "cell_type": "code",
   "execution_count": 4,
   "id": "5df6a2f3",
   "metadata": {},
   "outputs": [
    {
     "name": "stdout",
     "output_type": "stream",
     "text": [
      "['data/pv_data\\\\2017_pv_raw.csv', 'data/pv_data\\\\2018_pv_raw.csv', 'data/pv_data\\\\2019_pv_raw.csv']\n"
     ]
    }
   ],
   "source": [
    "import pandas as pd\n",
    "import os\n",
    "import glob\n",
    " \n",
    "# list all csv files only\n",
    "csv_files = glob.glob('data/pv_data/*.{}'.format('csv'))\n",
    "\n",
    "print(csv_files)\n",
    "df_cat = pd.DataFrame()\n",
    "\n",
    " \n",
    " \n",
    "df_concat = pd.concat([pd.read_csv(file) for file in csv_files ], ignore_index=True)\n",
    "\n",
    "df_concat.to_csv(\"data/pv_data/pv_output.csv\")"
   ]
  }
 ],
 "metadata": {
  "kernelspec": {
   "display_name": "pytorch_env",
   "language": "python",
   "name": "python3"
  },
  "language_info": {
   "codemirror_mode": {
    "name": "ipython",
    "version": 3
   },
   "file_extension": ".py",
   "mimetype": "text/x-python",
   "name": "python",
   "nbconvert_exporter": "python",
   "pygments_lexer": "ipython3",
   "version": "3.12.3"
  }
 },
 "nbformat": 4,
 "nbformat_minor": 5
}
