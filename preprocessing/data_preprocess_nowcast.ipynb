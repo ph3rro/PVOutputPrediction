{
 "cells": [
  {
   "cell_type": "code",
   "execution_count": 2,
   "metadata": {
    "id": "eEm5GsQgCdhx"
   },
   "outputs": [],
   "source": [
    "# import packages \n",
    "import cv2\n",
    "import numpy as np\n",
    "import os\n",
    "import datetime as dt\n",
    "import time\n",
    "import pandas as pd\n",
    "\n",
    "# define your own folder paths and names\n",
    "data_folder = os.path.join(os.getcwd(),'data')\n",
    "pv_data_folder = os.path.join(data_folder,'pv_data','pv_output_valid.pkl')\n",
    "\n",
    "#image_folder = os.path.join(project_path,'freqsnapshot_high')\n",
    "image_folder = os.path.join(data_folder,'raw_image_data')\n",
    "image_name_format = '%Y%m%d%H%M%S'\n",
    "\n",
    "output_folder =  os.path.join(data_folder,'data_expanded')\n",
    "pred_folder = os.path.join(data_folder,'data_nowcast')\n",
    "\n",
    "# operating parameter\n",
    "output_img_shape = [224, 224, 3] # down-size the high-res image to this resolution\n",
    "start_date = dt.datetime(2017,1,1) #NOTE: Inclusive of start date\n",
    "end_date = dt.datetime(2020,1,1) #NOTE: Exclusive of end date (only end up with 2017-2019 data)\n"
   ]
  },
  {
   "cell_type": "code",
   "execution_count": 3,
   "metadata": {},
   "outputs": [],
   "source": [
    "# Setting up test set\n",
    "sunny_day = [(2017,9,15),(2017,10,6),(2017,10,22),(2018,2,16),(2018,6,12),(2018,6,23),(2019,1,25),(2019,6,23),(2019,7,14),(2019,10,14)]\n",
    "cloudy_day = [(2017,6,24),(2017,9,20),(2017,10,11),(2018,1,25),(2018,3,9),(2018,10,4),(2019,5,27),(2019,6,28),(2019,8,10),(2019,10,19)]\n",
    "sunny_datetime = [dt.datetime(day[0],day[1],day[2]) for day in sunny_day]\n",
    "cloudy_datetime = [dt.datetime(day[0],day[1],day[2]) for day in cloudy_day]\n",
    "test_dates = sunny_datetime + cloudy_datetime"
   ]
  },
  {
   "cell_type": "code",
   "execution_count": 4,
   "metadata": {
    "scrolled": true
   },
   "outputs": [
    {
     "data": {
      "text/plain": [
       "[datetime.datetime(2017, 9, 15, 0, 0),\n",
       " datetime.datetime(2017, 10, 6, 0, 0),\n",
       " datetime.datetime(2017, 10, 22, 0, 0),\n",
       " datetime.datetime(2018, 2, 16, 0, 0),\n",
       " datetime.datetime(2018, 6, 12, 0, 0),\n",
       " datetime.datetime(2018, 6, 23, 0, 0),\n",
       " datetime.datetime(2019, 1, 25, 0, 0),\n",
       " datetime.datetime(2019, 6, 23, 0, 0),\n",
       " datetime.datetime(2019, 7, 14, 0, 0),\n",
       " datetime.datetime(2019, 10, 14, 0, 0),\n",
       " datetime.datetime(2017, 6, 24, 0, 0),\n",
       " datetime.datetime(2017, 9, 20, 0, 0),\n",
       " datetime.datetime(2017, 10, 11, 0, 0),\n",
       " datetime.datetime(2018, 1, 25, 0, 0),\n",
       " datetime.datetime(2018, 3, 9, 0, 0),\n",
       " datetime.datetime(2018, 10, 4, 0, 0),\n",
       " datetime.datetime(2019, 5, 27, 0, 0),\n",
       " datetime.datetime(2019, 6, 28, 0, 0),\n",
       " datetime.datetime(2019, 8, 10, 0, 0),\n",
       " datetime.datetime(2019, 10, 19, 0, 0)]"
      ]
     },
     "execution_count": 4,
     "metadata": {},
     "output_type": "execute_result"
    }
   ],
   "source": [
    "test_dates"
   ]
  },
  {
   "cell_type": "code",
   "execution_count": 5,
   "metadata": {
    "id": "mA9TB2TZCdh9"
   },
   "outputs": [],
   "source": [
    "def find_idx_with_dates(all_times,test_dates):\n",
    "    idx=[]\n",
    "    for test_day in test_dates:\n",
    "        test_day_end = test_day + dt.timedelta(days = 1)\n",
    "        idx+=np.nonzero((all_times>test_day)*(all_times<test_day_end))[0].tolist()\n",
    "    return idx\n",
    "\n",
    "# This two function does the same thing. Just that one is for np, the other for pd.\n",
    "def find_time_within_nparray(time_array,time_point):\n",
    "    probable_idx = np.searchsorted(time_array,time_point)\n",
    "    \n",
    "    # If the time point is after all the time in pv_data\n",
    "    if probable_idx == len(time_array):\n",
    "        return None   \n",
    "    \n",
    "    # See if the time point is actually a match \n",
    "    if time_array[probable_idx]== time_point: \n",
    "        return probable_idx\n",
    "        \n",
    "    else:\n",
    "        return None\n",
    "\n",
    "def find_time_within_pdseries(time_array,time_point):\n",
    "    probable_idx = np.searchsorted(time_array,time_point)\n",
    "    \n",
    "    # If the time point is after all the time in pv_data\n",
    "    if probable_idx == len(time_array):\n",
    "        return None   \n",
    "    \n",
    "    # See if the time point is actually a match \n",
    "    if time_array[probable_idx]== time_point: \n",
    "        return probable_idx\n",
    "        \n",
    "    else:\n",
    "        return None\n",
    "\n",
    "def listdir_noini(path):\n",
    "    f_list = []\n",
    "    for f in os.listdir(path):\n",
    "        _, file_extension = os.path.splitext(f)\n",
    "        if not file_extension == '.ini':\n",
    "            f_list.append(f)    \n",
    "    \n",
    "    return sorted(f_list)\n",
    "    \n",
    "# return a list list all the .jpg files in \n",
    "def listdir_jpg(path):\n",
    "    f_list = []\n",
    "    for f in os.listdir(path):\n",
    "        _, file_extension = os.path.splitext(f)\n",
    "        if file_extension == '.jpg':\n",
    "            f_list.append(f)\n",
    "            \n",
    "    return sorted(f_list)"
   ]
  },
  {
   "cell_type": "markdown",
   "metadata": {
    "id": "vecho-o7CdiE"
   },
   "source": [
    "### Read in PV output "
   ]
  },
  {
   "cell_type": "code",
   "execution_count": null,
   "metadata": {
    "id": "rJkS66w2CdiG"
   },
   "outputs": [],
   "source": [
    "# Read in the pv output file\n",
    "pv_output_all = pd.read_pickle(os.path.join(pv_data_folder))\n",
    "\n",
    "# Obtain relevant data\n",
    "pv_output_all = pv_output_all.loc[start_date:end_date]"
   ]
  },
  {
   "cell_type": "markdown",
   "metadata": {
    "id": "oI8U-rP6CdiM"
   },
   "source": [
    "### Read in image paths"
   ]
  },
  {
   "cell_type": "code",
   "execution_count": null,
   "metadata": {
    "colab": {
     "base_uri": "https://localhost:8080/",
     "height": 34
    },
    "executionInfo": {
     "elapsed": 365,
     "status": "ok",
     "timestamp": 1599952036769,
     "user": {
      "displayName": "Andea Jewel Scott",
      "photoUrl": "",
      "userId": "15144577752603562183"
     },
     "user_tz": 420
    },
    "id": "XGNpL7xCCdiN",
    "outputId": "c2764260-1283-46a2-bcce-4614e1e74bd9"
   },
   "outputs": [],
   "source": [
    "# Initialization: find all image file path\n",
    "image_paths = []\n",
    "all_times = []\n",
    "\n",
    "years_list = listdir_noini(os.path.join(image_folder))\n",
    "for year in years_list: # cycle through the years\n",
    "    months_list = listdir_noini(os.path.join(image_folder,year))\n",
    "    for month in months_list: # cycle through the months\n",
    "        second_folder = os.listdir(os.path.join(image_folder,year,month))[0]\n",
    "        dates_list  = listdir_noini(os.path.join(image_folder,year,month,second_folder))\n",
    "        for date in dates_list: # cycle through each day\n",
    "            image_filenames = listdir_jpg(os.path.join(image_folder,year,month,second_folder,date))\n",
    "            #print(os.listdir(os.path.join(image_folder,year,month,second_folder,date)))\n",
    "            for filename in image_filenames:\n",
    "                image_paths.append(os.path.join(image_folder,year,month,second_folder,date,filename))\n",
    "\t\n",
    "                all_times.append(dt.datetime.strptime(filename,image_name_format+'.jpg'))\n",
    "            \n",
    "\n",
    "# Only keep the one in the given time frame\n",
    "image_paths = np.array(image_paths)\n",
    "all_times = np.array(all_times)\n",
    "print(all_times.shape)\n",
    "in_range = (all_times>=start_date) & (all_times<end_date)\n",
    "image_paths = image_paths[in_range]\n",
    "all_times = all_times[in_range]"
   ]
  },
  {
   "cell_type": "markdown",
   "metadata": {
    "id": "JZRqCZVECdiT"
   },
   "source": [
    "### Load in each image, and save ones with valid PV_output"
   ]
  },
  {
   "cell_type": "code",
   "execution_count": null,
   "metadata": {
    "colab": {
     "base_uri": "https://localhost:8080/",
     "height": 1000
    },
    "executionInfo": {
     "elapsed": 322636,
     "status": "ok",
     "timestamp": 1599952390130,
     "user": {
      "displayName": "Andea Jewel Scott",
      "photoUrl": "",
      "userId": "15144577752603562183"
     },
     "user_tz": 420
    },
    "id": "eQd1M5m7CdiU",
    "outputId": "7e30d672-7edb-44fe-bcdb-0beaf2d2c8ae",
    "scrolled": true
   },
   "outputs": [],
   "source": [
    "# Save images from snapshot folder to an npy file\n",
    "# Designed for the high frequency (10s) dataset\n",
    "number_images = len(image_paths)\n",
    "\n",
    "all_images = np.ndarray([number_images] + output_img_shape,dtype='uint8')\n",
    "pv_outputs = np.zeros(number_images)\n",
    "validity_mask = np.zeros(number_images,dtype = bool)\n",
    "\n",
    "# time counter\n",
    "tic = time.process_time()\n",
    "\n",
    "# Step through every snapshot, find if they have valid corresponding PV data\n",
    "\n",
    "for i,image_path in enumerate(image_paths): # cycle through each file of the day\n",
    "    # parse timestamp from image name\n",
    "    curr_time = all_times[i]\n",
    "    \n",
    "    # test if there is corresponding data in PV data\n",
    "    pv_idx = find_time_within_pdseries(pv_output_all.index,curr_time)\n",
    "    if pv_idx is None:# if prediction ground truth not found\n",
    "        print(curr_time,'has no PV record')\n",
    "    else: \n",
    "        validity_mask[i] = 1\n",
    "        frame = cv2.imread(os.path.join(image_path))\n",
    "        # resizing the image to output_img_shape\n",
    "        resizing_ratio = output_img_shape[0] / frame.shape[0]\n",
    "        all_images[i] = cv2.resize(frame, None, fx=resizing_ratio, fy=resizing_ratio)\n",
    "        pv_outputs[i] = pv_output_all.iloc[pv_idx]\n",
    "    \n",
    "    # prompt progress\n",
    "    if i%100 == 0:\n",
    "        print('processed {0} images/{1} images'.format(i,image_paths.size))\n",
    "        if i%1000 == 0 and i>0:\n",
    "            print('Expected finishing time:', dt.datetime.now()+\n",
    "                  dt.timedelta(seconds = (time.process_time() - tic)*(image_paths.size/i-1)))\n",
    "                                      \n",
    "        \n",
    "print('time_elapsed',time.process_time()-tic)"
   ]
  },
  {
   "cell_type": "code",
   "execution_count": null,
   "metadata": {
    "id": "z54HNGWSCdiX"
   },
   "outputs": [],
   "source": [
    "# Cropping relevant information\n",
    "all_times = all_times[validity_mask]\n",
    "all_images = all_images[validity_mask]\n",
    "pv_outputs = pv_outputs[validity_mask]"
   ]
  },
  {
   "cell_type": "code",
   "execution_count": null,
   "metadata": {},
   "outputs": [],
   "source": [
    "print(len(all_times))"
   ]
  },
  {
   "cell_type": "code",
   "execution_count": null,
   "metadata": {},
   "outputs": [],
   "source": [
    "#storing information\n",
    "np.save(os.path.join(output_folder,'all_times_highfreq.npy'),all_times)\n",
    "np.save(os.path.join(output_folder,'all_images_highfreq.npy'), all_images)\n",
    "np.save(os.path.join(output_folder,'pv_outputs_highfreq.npy'), pv_outputs)"
   ]
  },
  {
   "cell_type": "code",
   "execution_count": 14,
   "metadata": {
    "colab": {
     "base_uri": "https://localhost:8080/",
     "height": 34
    },
    "executionInfo": {
     "elapsed": 431,
     "status": "ok",
     "timestamp": 1599952489762,
     "user": {
      "displayName": "Andea Jewel Scott",
      "photoUrl": "",
      "userId": "15144577752603562183"
     },
     "user_tz": 420
    },
    "id": "NlbtVLk4Cdib",
    "outputId": "1e1964f9-96c4-4c0b-a525-169937a6fe22"
   },
   "outputs": [
    {
     "data": {
      "text/plain": [
       "(363375,)"
      ]
     },
     "execution_count": 14,
     "metadata": {},
     "output_type": "execute_result"
    }
   ],
   "source": [
    "all_times.shape"
   ]
  },
  {
   "cell_type": "code",
   "execution_count": 15,
   "metadata": {
    "colab": {
     "base_uri": "https://localhost:8080/",
     "height": 34
    },
    "executionInfo": {
     "elapsed": 622,
     "status": "ok",
     "timestamp": 1599952493878,
     "user": {
      "displayName": "Andea Jewel Scott",
      "photoUrl": "",
      "userId": "15144577752603562183"
     },
     "user_tz": 420
    },
    "id": "jRcL2HejCdie",
    "outputId": "ae15d51f-4948-454b-a751-dc90c08db801"
   },
   "outputs": [
    {
     "data": {
      "text/plain": [
       "(363375, 224, 224, 3)"
      ]
     },
     "execution_count": 15,
     "metadata": {},
     "output_type": "execute_result"
    }
   ],
   "source": [
    "all_images.shape"
   ]
  },
  {
   "cell_type": "markdown",
   "metadata": {
    "id": "Kde7Z0D1Cdii"
   },
   "source": [
    "### Filter out repeating images"
   ]
  },
  {
   "cell_type": "code",
   "execution_count": null,
   "metadata": {
    "id": "W-6Gtb4gCdii"
   },
   "outputs": [],
   "source": [
    "# Load back in the previously processed times, images, and PV_outputs\n",
    "all_times = np.load(os.path.join(output_folder,'all_times_highfreq.npy'), allow_pickle = True)\n",
    "all_images = np.load(os.path.join(output_folder,'all_images_highfreq.npy'), allow_pickle = True)\n",
    "pv_outputs = np.load(os.path.join(output_folder,'pv_outputs_highfreq.npy'), allow_pickle = True)"
   ]
  },
  {
   "cell_type": "code",
   "execution_count": null,
   "metadata": {
    "id": "iwdwmGBwCdil"
   },
   "outputs": [],
   "source": [
    "batch_size = 50000\n",
    "is_repeating_mask = np.empty(0, dtype=bool)\n",
    "\n",
    "for i in range(0, len(all_images), batch_size):\n",
    "\n",
    "\t# Filter for repeating images (the OpenCV video capture function would sometimes fail to seek the correct frame \n",
    "\t# and instead erroneously repeat the current frame)\n",
    "\tcurrent_batch_size =  min(batch_size, len(all_images)-i)\n",
    "\tall_images_16 = all_images[i : i+batch_size ].astype('int16')\n",
    "\n",
    "\t# Calculated the change within two continuous image\n",
    "\tall_images_diff = all_images_16[1:] - all_images_16[:-1]\n",
    "\tall_images_diff_sum = np.sum(np.abs(all_images_diff), axis = (1,2,3))\n",
    "\n",
    "\t# create mask that record repeating status\n",
    "\tis_repeating_mask_batch = np.zeros(current_batch_size,dtype = bool)\n",
    "\tis_repeating_mask_batch[1:] = (all_images_diff_sum == 0)\n",
    "\n",
    "\tis_repeating_mask = np.concatenate([is_repeating_mask, is_repeating_mask_batch])\n",
    "\n",
    "# Cropping relevant information\n",
    "all_times = all_times[~is_repeating_mask]\n",
    "all_images = all_images[~is_repeating_mask]\n",
    "pv_outputs = pv_outputs[~is_repeating_mask]"
   ]
  },
  {
   "cell_type": "code",
   "execution_count": 66,
   "metadata": {
    "colab": {
     "base_uri": "https://localhost:8080/",
     "height": 34
    },
    "executionInfo": {
     "elapsed": 373,
     "status": "ok",
     "timestamp": 1599952530911,
     "user": {
      "displayName": "Andea Jewel Scott",
      "photoUrl": "",
      "userId": "15144577752603562183"
     },
     "user_tz": 420
    },
    "id": "8YlaQd2YCdin",
    "outputId": "7d4b8584-fe76-450d-b993-b84b8b9a21d9"
   },
   "outputs": [
    {
     "data": {
      "text/plain": [
       "(363375,)"
      ]
     },
     "execution_count": 66,
     "metadata": {},
     "output_type": "execute_result"
    }
   ],
   "source": [
    "all_times.shape"
   ]
  },
  {
   "cell_type": "code",
   "execution_count": 67,
   "metadata": {
    "id": "lQfvvuFuCdiq"
   },
   "outputs": [],
   "source": [
    "#storing information\n",
    "np.save(os.path.join(output_folder,'all_times_highfreq.npy'),all_times)\n",
    "np.save(os.path.join(output_folder,'all_images_highfreq.npy'), all_images)\n",
    "np.save(os.path.join(output_folder,'pv_outputs_highfreq.npy'), pv_outputs)"
   ]
  },
  {
   "cell_type": "code",
   "execution_count": 6,
   "metadata": {},
   "outputs": [],
   "source": [
    "# Load back in the previously processed times, images, and PV_outputs\n",
    "all_times = np.load(os.path.join(output_folder,'all_times_highfreq.npy'), allow_pickle = True)\n",
    "all_images = np.load(os.path.join(output_folder,'all_images_highfreq.npy'), allow_pickle = True)\n",
    "pv_outputs = np.load(os.path.join(output_folder,'pv_outputs_highfreq.npy'), allow_pickle = True)"
   ]
  },
  {
   "cell_type": "code",
   "execution_count": 7,
   "metadata": {
    "id": "5pGPNoAwCdit"
   },
   "outputs": [],
   "source": [
    "def store_trainval_test(all_times,image_log,pv_log,pred_folder):\n",
    "    \n",
    "    ## Splitting into Trainval and Test set \n",
    "    idx_test = find_idx_with_dates(all_times,test_dates)\n",
    "    image_log_test = image_log[idx_test]\n",
    "    pv_log_test = pv_log[idx_test]\n",
    "    times_test = all_times[idx_test]\n",
    "\n",
    "    # the rest become the trainval set\n",
    "    mask_trainval = np.ones_like(pv_log,dtype = bool)\n",
    "    mask_trainval[idx_test] = 0\n",
    "    image_log_trainval = image_log[mask_trainval]\n",
    "    pv_log_trainval = pv_log[mask_trainval]\n",
    "    times_trainval = all_times[mask_trainval]\n",
    "    \n",
    "    print(\"times_trainval.shape\",times_trainval.shape)\n",
    "    print(\"image_log_trainval.shape\",image_log_trainval.shape)\n",
    "    print(\"pv_log_trainval.shape\",pv_log_trainval.shape)\n",
    "    \n",
    "    print(\"times_test.shape\",times_test.shape)\n",
    "    print(\"image_log_test.shape\",image_log_test.shape)\n",
    "    print(\"pv_log_test.shape\",pv_log_test.shape)\n",
    "    \n",
    "    #storing information\n",
    "    # storing the training set\n",
    "    np.save(os.path.join(pred_folder,'image_log_trainval.npy'), image_log_trainval)\n",
    "    np.save(os.path.join(pred_folder,'pv_log_trainval.npy'), pv_log_trainval)\n",
    "    np.save(os.path.join(pred_folder,'times_trainval.npy'),times_trainval)\n",
    "\n",
    "    # storing the testing set\n",
    "    np.save(os.path.join(pred_folder,'image_log_test.npy'), image_log_test)\n",
    "    np.save(os.path.join(pred_folder,'pv_log_test.npy'), pv_log_test)\n",
    "    np.save(os.path.join(pred_folder,'times_test.npy'),times_test)"
   ]
  },
  {
   "cell_type": "code",
   "execution_count": 11,
   "metadata": {
    "colab": {
     "base_uri": "https://localhost:8080/",
     "height": 119
    },
    "executionInfo": {
     "elapsed": 2216,
     "status": "ok",
     "timestamp": 1599952754574,
     "user": {
      "displayName": "Andea Jewel Scott",
      "photoUrl": "",
      "userId": "15144577752603562183"
     },
     "user_tz": 420
    },
    "id": "aCGu9mr7Cdiv",
    "outputId": "bbeb49c7-ab7a-47c1-d9fc-488db50e1b99"
   },
   "outputs": [
    {
     "name": "stdout",
     "output_type": "stream",
     "text": [
      "times_trainval.shape (349372,)\n",
      "image_log_trainval.shape (349372, 224, 224, 3)\n",
      "pv_log_trainval.shape (349372,)\n",
      "times_test.shape (14003,)\n",
      "image_log_test.shape (14003, 224, 224, 3)\n",
      "pv_log_test.shape (14003,)\n"
     ]
    }
   ],
   "source": [
    "store_trainval_test(all_times,all_images,pv_outputs,pred_folder)"
   ]
  },
  {
   "cell_type": "code",
   "execution_count": 12,
   "metadata": {},
   "outputs": [
    {
     "data": {
      "image/png": "[encoded data removed]",
      "text/plain": [
       "<Figure size 500x300 with 1 Axes>"
      ]
     },
     "metadata": {},
     "output_type": "display_data"
    }
   ],
   "source": [
    "## Check the pv distribution\n",
    "import matplotlib.pyplot as plt\n",
    "\n",
    "pv_log_test = np.load(os.path.join(pred_folder,'pv_log_test.npy'))\n",
    "pv_log_trainval = np.load(os.path.join(pred_folder,'pv_log_trainval.npy'))\n",
    "\n",
    "\n",
    "\n",
    "plt.figure(figsize=(5,3))\n",
    "plt.hist(pv_log_test, histtype='stepfilled', color='blue', density=True, bins=50, alpha=0.5,label='Test set')\n",
    "plt.hist(pv_log_trainval, histtype='stepfilled', color='red', density=True, bins=50, alpha=0.5,label='Development set')\n",
    "plt.ylabel('Density')\n",
    "plt.xlabel('PV power generation (kW)')\n",
    "plt.legend()\n",
    "plt.savefig('pv_nowcast_density.pdf',bbox_inches='tight')"
   ]
  },
  {
   "cell_type": "code",
   "execution_count": 13,
   "metadata": {},
   "outputs": [
    {
     "data": {
      "image/png": "[encoded data removed]",
      "text/plain": [
       "<Figure size 1000x300 with 2 Axes>"
      ]
     },
     "metadata": {},
     "output_type": "display_data"
    }
   ],
   "source": [
    "f,ax = plt.subplots(1,2, sharex=True, sharey=True, figsize=(10,3))\n",
    "ax[0].hist(pv_log_trainval, histtype='stepfilled', color='red', density=True, bins=50, alpha=0.5,label='Development set')\n",
    "ax[0].set_title('Development set')\n",
    "ax[1].hist(pv_log_test, histtype='stepfilled', color='blue', density=True, bins=50, alpha=0.5,label='Test set')\n",
    "ax[1].set_title('Test set')\n",
    "ax[0].set_ylabel('Density')\n",
    "ax[0].set_xlabel('PV power generation (kW)')\n",
    "ax[1].set_xlabel('PV power generation (kW)')\n",
    "#ax[0].legend()\n",
    "plt.savefig('pv_nowcast_density_sep.pdf',bbox_inches='tight')"
   ]
  },
  {
   "cell_type": "code",
   "execution_count": null,
   "metadata": {},
   "outputs": [],
   "source": []
  }
 ],
 "metadata": {
  "colab": {
   "collapsed_sections": [],
   "name": "data_preprocess_nowcast.ipynb",
   "provenance": [],
   "toc_visible": true
  },
  "kernelspec": {
   "display_name": "pytorch_env",
   "language": "python",
   "name": "python3"
  },
  "language_info": {
   "codemirror_mode": {
    "name": "ipython",
    "version": 3
   },
   "file_extension": ".py",
   "mimetype": "text/x-python",
   "name": "python",
   "nbconvert_exporter": "python",
   "pygments_lexer": "ipython3",
   "version": "3.12.3"
  }
 },
 "nbformat": 4,
 "nbformat_minor": 1
}
