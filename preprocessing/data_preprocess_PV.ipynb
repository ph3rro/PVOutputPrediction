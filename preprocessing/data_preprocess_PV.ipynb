{
 "cells": [
  {
   "cell_type": "code",
   "execution_count": 1,
   "metadata": {
    "id": "FavCStxXT1TR"
   },
   "outputs": [],
   "source": [
    "# import packages \n",
    "import numpy as np\n",
    "import datetime\n",
    "import pandas as pd\n",
    "import matplotlib.pyplot as plt\n",
    "import matplotlib.dates as mdates\n",
    "import os\n",
    "from scipy.interpolate import interp1d\n",
    "%matplotlib inline\n",
    "\n",
    "# define your own folder paths and names\n",
    "project_path = os.getcwd()\n",
    "input_folder = os.path.join(project_path,'data','pv_data')\n",
    "output_folder = os.path.join(project_path,'data','pv_data')\n",
    "\n",
    "# file path\n",
    "pv_data_raw_path = os.path.join(input_folder,'pv_output.csv')\n",
    "\n",
    "# Operating parameter\n",
    "start_date = datetime.datetime(2017,1,1)\n",
    "end_date = datetime.datetime(2019,12,31)"
   ]
  },
  {
   "cell_type": "markdown",
   "metadata": {
    "id": "4zJDagWoT1TX"
   },
   "source": [
    "## 1. Read raw data from excel file"
   ]
  },
  {
   "cell_type": "code",
   "execution_count": 2,
   "metadata": {
    "id": "zMeapNtnT1TX"
   },
   "outputs": [],
   "source": [
    "# load raw data\n",
    "pv_data_raw_df = pd.read_csv(pv_data_raw_path)\n",
    "\n",
    "# modify the time format to datetime\n",
    "pv_data_df = pd.DataFrame()\n",
    "pv_data_df[\"Time\"] = pv_data_raw_df[\"Date\"].apply(lambda x: datetime.datetime.strptime(x,\"%Y-%m-%dT%H:%M:%S\"))\n",
    "pv_data_df[\"PV_output_kw\"] = pv_data_raw_df[\"Huang_E4102_kW\"]\n",
    "\n",
    "# select sample from starting time\n",
    "pv_data_df = pv_data_df[(pv_data_df['Time']>=start_date) & (pv_data_df['Time']<=end_date)]\n",
    "\n",
    "# reset index to starting from 0 and drop the old index\n",
    "pv_data_df.reset_index(drop=True, inplace=True)\n",
    "pv_data_df = pv_data_df.set_index('Time')"
   ]
  },
  {
   "cell_type": "code",
   "execution_count": 3,
   "metadata": {
    "colab": {
     "base_uri": "https://localhost:8080/",
     "height": 450
    },
    "executionInfo": {
     "elapsed": 367,
     "status": "ok",
     "timestamp": 1611625256538,
     "user": {
      "displayName": "Yuhao Nie",
      "photoUrl": "",
      "userId": "16439078136036841043"
     },
     "user_tz": 480
    },
    "id": "yOC0OAABT1TY",
    "outputId": "29f31ce0-30a1-4a8b-e1e8-b96af4c8f79d"
   },
   "outputs": [
    {
     "data": {
      "text/html": [
       "<div>\n",
       "<style scoped>\n",
       "    .dataframe tbody tr th:only-of-type {\n",
       "        vertical-align: middle;\n",
       "    }\n",
       "\n",
       "    .dataframe tbody tr th {\n",
       "        vertical-align: top;\n",
       "    }\n",
       "\n",
       "    .dataframe thead th {\n",
       "        text-align: right;\n",
       "    }\n",
       "</style>\n",
       "<table border=\"1\" class=\"dataframe\">\n",
       "  <thead>\n",
       "    <tr style=\"text-align: right;\">\n",
       "      <th></th>\n",
       "      <th>PV_output_kw</th>\n",
       "    </tr>\n",
       "    <tr>\n",
       "      <th>Time</th>\n",
       "      <th></th>\n",
       "    </tr>\n",
       "  </thead>\n",
       "  <tbody>\n",
       "    <tr>\n",
       "      <th>2017-01-01 00:00:00</th>\n",
       "      <td>-0.084945</td>\n",
       "    </tr>\n",
       "    <tr>\n",
       "      <th>2017-01-01 00:01:00</th>\n",
       "      <td>-0.084945</td>\n",
       "    </tr>\n",
       "    <tr>\n",
       "      <th>2017-01-01 00:02:00</th>\n",
       "      <td>-0.084945</td>\n",
       "    </tr>\n",
       "    <tr>\n",
       "      <th>2017-01-01 00:03:00</th>\n",
       "      <td>-0.084945</td>\n",
       "    </tr>\n",
       "    <tr>\n",
       "      <th>2017-01-01 00:04:00</th>\n",
       "      <td>-0.084945</td>\n",
       "    </tr>\n",
       "    <tr>\n",
       "      <th>...</th>\n",
       "      <td>...</td>\n",
       "    </tr>\n",
       "    <tr>\n",
       "      <th>2019-10-27 08:56:00</th>\n",
       "      <td>5.983374</td>\n",
       "    </tr>\n",
       "    <tr>\n",
       "      <th>2019-10-27 08:57:00</th>\n",
       "      <td>6.125702</td>\n",
       "    </tr>\n",
       "    <tr>\n",
       "      <th>2019-10-27 08:58:00</th>\n",
       "      <td>6.291990</td>\n",
       "    </tr>\n",
       "    <tr>\n",
       "      <th>2019-10-27 08:59:00</th>\n",
       "      <td>6.386458</td>\n",
       "    </tr>\n",
       "    <tr>\n",
       "      <th>2019-10-27 09:00:00</th>\n",
       "      <td>6.527322</td>\n",
       "    </tr>\n",
       "  </tbody>\n",
       "</table>\n",
       "<p>1482241 rows × 1 columns</p>\n",
       "</div>"
      ],
      "text/plain": [
       "                     PV_output_kw\n",
       "Time                             \n",
       "2017-01-01 00:00:00     -0.084945\n",
       "2017-01-01 00:01:00     -0.084945\n",
       "2017-01-01 00:02:00     -0.084945\n",
       "2017-01-01 00:03:00     -0.084945\n",
       "2017-01-01 00:04:00     -0.084945\n",
       "...                           ...\n",
       "2019-10-27 08:56:00      5.983374\n",
       "2019-10-27 08:57:00      6.125702\n",
       "2019-10-27 08:58:00      6.291990\n",
       "2019-10-27 08:59:00      6.386458\n",
       "2019-10-27 09:00:00      6.527322\n",
       "\n",
       "[1482241 rows x 1 columns]"
      ]
     },
     "execution_count": 3,
     "metadata": {},
     "output_type": "execute_result"
    }
   ],
   "source": [
    "pv_data_df"
   ]
  },
  {
   "cell_type": "markdown",
   "metadata": {
    "id": "D3CLYwhYT1TZ"
   },
   "source": [
    "## 2. PV data interpolation"
   ]
  },
  {
   "cell_type": "code",
   "execution_count": 4,
   "metadata": {},
   "outputs": [],
   "source": [
    "def interpaverage(record_times,record_outputs):\n",
    "    # Generate interpolation function with interp1d\n",
    "    start_time_dt = record_times[0]\n",
    "    start_time_str = datetime.datetime.strftime(start_time_dt,\"%Y-%m-%dT%H:%M:%S\")\n",
    "    record_times = record_times.astype('datetime64[s]')\n",
    "    record_times_elapsed = (record_times - np.datetime64(start_time_str)).astype('int')\n",
    "    f = interp1d(record_times_elapsed, record_outputs)\n",
    "\n",
    "    # Interpolating to every 1 seconds \n",
    "    int_times_elapsed = np.arange(0, record_times_elapsed[-1], 1)\n",
    "    int_outputs = f(int_times_elapsed)\n",
    "    int_datetimes = start_time_dt+int_times_elapsed*datetime.timedelta(seconds=1)\n",
    "    \n",
    "    # Store the interpolated RAW data into a pd series\n",
    "    pv_output_raw_int = pd.Series(int_outputs, index = int_datetimes) \n",
    "\n",
    "    # Store to hard drive\n",
    "    pv_output_10s_int = pv_output_raw_int.resample('10S').first()\n",
    "\n",
    "    # Assert all index is 10s*N\n",
    "    assert np.sum((pv_output_10s_int.index.second % 10).values) == 0\n",
    "    \n",
    "    return pv_output_10s_int"
   ]
  },
  {
   "cell_type": "code",
   "execution_count": 5,
   "metadata": {
    "id": "sb1ggXJTT1Ta",
    "outputId": "d3631946-00b1-49f5-aa25-7b426e55eb8a"
   },
   "outputs": [
    {
     "name": "stdout",
     "output_type": "stream",
     "text": [
      "record_times.shape:  (1482241,)\n",
      "record_outputs.shape:  (1482241,)\n"
     ]
    }
   ],
   "source": [
    "record_times = np.asarray([time.to_pydatetime() for time in pv_data_df.index])\n",
    "record_outputs = pv_data_df['PV_output_kw'].values\n",
    "\n",
    "print(\"record_times.shape: \", record_times.shape)\n",
    "print(\"record_outputs.shape: \", record_outputs.shape)"
   ]
  },
  {
   "cell_type": "code",
   "execution_count": 6,
   "metadata": {
    "id": "LlyV7k85T1Ta",
    "outputId": "e86d4e7f-6ff8-481b-b731-03c4781c0aed"
   },
   "outputs": [
    {
     "data": {
      "text/plain": [
       "array([datetime.datetime(2017, 1, 1, 0, 0),\n",
       "       datetime.datetime(2017, 1, 1, 0, 1),\n",
       "       datetime.datetime(2017, 1, 1, 0, 2), ...,\n",
       "       datetime.datetime(2019, 10, 27, 8, 58),\n",
       "       datetime.datetime(2019, 10, 27, 8, 59),\n",
       "       datetime.datetime(2019, 10, 27, 9, 0)], dtype=object)"
      ]
     },
     "execution_count": 6,
     "metadata": {},
     "output_type": "execute_result"
    }
   ],
   "source": [
    "record_times"
   ]
  },
  {
   "cell_type": "code",
   "execution_count": 7,
   "metadata": {
    "id": "wB8i-JNHT1Ta",
    "outputId": "02fdec3e-400c-4b87-8be3-3eaa8ad2788d"
   },
   "outputs": [
    {
     "data": {
      "text/plain": [
       "array([-0.08494503, -0.08494503, -0.08494503, ...,  6.2919903 ,\n",
       "        6.38645795,  6.52732201])"
      ]
     },
     "execution_count": 7,
     "metadata": {},
     "output_type": "execute_result"
    }
   ],
   "source": [
    "record_outputs"
   ]
  },
  {
   "cell_type": "code",
   "execution_count": 8,
   "metadata": {
    "id": "MqAXPZxvT1Tb",
    "outputId": "42a1b8aa-149b-4c1d-a0f2-a7efa6c0a8df",
    "scrolled": true
   },
   "outputs": [
    {
     "name": "stderr",
     "output_type": "stream",
     "text": [
      "C:\\Users\\aiden\\AppData\\Local\\Temp\\ipykernel_28304\\1874213284.py:18: FutureWarning: 'S' is deprecated and will be removed in a future version, please use 's' instead.\n",
      "  pv_output_10s_int = pv_output_raw_int.resample('10S').first()\n"
     ]
    },
    {
     "data": {
      "text/plain": [
       "2017-01-01 00:00:00   -0.084945\n",
       "2017-01-01 00:00:10   -0.084945\n",
       "2017-01-01 00:00:20   -0.084945\n",
       "2017-01-01 00:00:30   -0.084945\n",
       "2017-01-01 00:00:40   -0.084945\n",
       "                         ...   \n",
       "2019-10-27 08:59:10    6.409935\n",
       "2019-10-27 08:59:20    6.433413\n",
       "2019-10-27 08:59:30    6.456890\n",
       "2019-10-27 08:59:40    6.480367\n",
       "2019-10-27 08:59:50    6.503845\n",
       "Freq: 10s, Length: 8893800, dtype: float64"
      ]
     },
     "execution_count": 8,
     "metadata": {},
     "output_type": "execute_result"
    }
   ],
   "source": [
    "pv_output_10s_int = interpaverage(record_times,record_outputs)\n",
    "pv_output_10s_int"
   ]
  },
  {
   "cell_type": "markdown",
   "metadata": {
    "id": "pVU3SdtcT1Tb"
   },
   "source": [
    "## 3. Plot PV profile for everyday: Visual inspection of invalid days "
   ]
  },
  {
   "cell_type": "code",
   "execution_count": null,
   "metadata": {
    "id": "xUAU_ceXT1Tb",
    "outputId": "4cf89198-de70-417f-d8da-b4fa57a36131"
   },
   "outputs": [
    {
     "ename": "TypeError",
     "evalue": "DatetimeArray._generate_range() got an unexpected keyword argument 'closed'",
     "output_type": "error",
     "traceback": [
      "\u001b[31m---------------------------------------------------------------------------\u001b[39m",
      "\u001b[31mTypeError\u001b[39m                                 Traceback (most recent call last)",
      "\u001b[36mCell\u001b[39m\u001b[36m \u001b[39m\u001b[32mIn[9]\u001b[39m\u001b[32m, line 3\u001b[39m\n\u001b[32m      1\u001b[39m \u001b[38;5;66;03m#  Step through the PV_data day by day \u001b[39;00m\n\u001b[32m      2\u001b[39m xfmt = mdates.DateFormatter(\u001b[33m'\u001b[39m\u001b[33m%\u001b[39m\u001b[33mH\u001b[39m\u001b[33m'\u001b[39m)\n\u001b[32m----> \u001b[39m\u001b[32m3\u001b[39m \u001b[38;5;28;01mfor\u001b[39;00m date \u001b[38;5;129;01min\u001b[39;00m \u001b[43mpd\u001b[49m\u001b[43m.\u001b[49m\u001b[43mdate_range\u001b[49m\u001b[43m(\u001b[49m\u001b[43mstart\u001b[49m\u001b[43m \u001b[49m\u001b[43m=\u001b[49m\u001b[43m \u001b[49m\u001b[43mpv_output_10s_int\u001b[49m\u001b[43m.\u001b[49m\u001b[43mindex\u001b[49m\u001b[43m[\u001b[49m\u001b[32;43m0\u001b[39;49m\u001b[43m]\u001b[49m\u001b[43m,\u001b[49m\u001b[43m \u001b[49m\u001b[43mend\u001b[49m\u001b[43m \u001b[49m\u001b[43m=\u001b[49m\u001b[43m \u001b[49m\u001b[43mpv_output_10s_int\u001b[49m\u001b[43m.\u001b[49m\u001b[43mindex\u001b[49m\u001b[43m[\u001b[49m\u001b[43m-\u001b[49m\u001b[32;43m1\u001b[39;49m\u001b[43m]\u001b[49m\u001b[43m,\u001b[49m\n\u001b[32m      4\u001b[39m \u001b[43m                         \u001b[49m\u001b[43mfreq\u001b[49m\u001b[43m \u001b[49m\u001b[43m=\u001b[49m\u001b[43m \u001b[49m\u001b[33;43m'\u001b[39;49m\u001b[33;43m1D\u001b[39;49m\u001b[33;43m'\u001b[39;49m\u001b[43m,\u001b[49m\u001b[43m \u001b[49m\u001b[43mclosed\u001b[49m\u001b[43m \u001b[49m\u001b[43m=\u001b[49m\u001b[43m \u001b[49m\u001b[33;43m'\u001b[39;49m\u001b[33;43mleft\u001b[39;49m\u001b[33;43m'\u001b[39;49m\u001b[43m)\u001b[49m:\n\u001b[32m      5\u001b[39m     hours_xaxis = pv_output_10s_int.loc[date:date+datetime.timedelta(days = \u001b[32m1\u001b[39m)].index\n\u001b[32m      6\u001b[39m     pv_one_day = pv_output_10s_int.loc[date:date+datetime.timedelta(days = \u001b[32m1\u001b[39m)].values\n",
      "\u001b[36mFile \u001b[39m\u001b[32md:\\PVOutputPrediction\\pytorch_env\\Lib\\site-packages\\pandas\\core\\indexes\\datetimes.py:1008\u001b[39m, in \u001b[36mdate_range\u001b[39m\u001b[34m(start, end, periods, freq, tz, normalize, name, inclusive, unit, **kwargs)\u001b[39m\n\u001b[32m   1005\u001b[39m \u001b[38;5;28;01mif\u001b[39;00m freq \u001b[38;5;129;01mis\u001b[39;00m \u001b[38;5;28;01mNone\u001b[39;00m \u001b[38;5;129;01mand\u001b[39;00m com.any_none(periods, start, end):\n\u001b[32m   1006\u001b[39m     freq = \u001b[33m\"\u001b[39m\u001b[33mD\u001b[39m\u001b[33m\"\u001b[39m\n\u001b[32m-> \u001b[39m\u001b[32m1008\u001b[39m dtarr = \u001b[43mDatetimeArray\u001b[49m\u001b[43m.\u001b[49m\u001b[43m_generate_range\u001b[49m\u001b[43m(\u001b[49m\n\u001b[32m   1009\u001b[39m \u001b[43m    \u001b[49m\u001b[43mstart\u001b[49m\u001b[43m=\u001b[49m\u001b[43mstart\u001b[49m\u001b[43m,\u001b[49m\n\u001b[32m   1010\u001b[39m \u001b[43m    \u001b[49m\u001b[43mend\u001b[49m\u001b[43m=\u001b[49m\u001b[43mend\u001b[49m\u001b[43m,\u001b[49m\n\u001b[32m   1011\u001b[39m \u001b[43m    \u001b[49m\u001b[43mperiods\u001b[49m\u001b[43m=\u001b[49m\u001b[43mperiods\u001b[49m\u001b[43m,\u001b[49m\n\u001b[32m   1012\u001b[39m \u001b[43m    \u001b[49m\u001b[43mfreq\u001b[49m\u001b[43m=\u001b[49m\u001b[43mfreq\u001b[49m\u001b[43m,\u001b[49m\n\u001b[32m   1013\u001b[39m \u001b[43m    \u001b[49m\u001b[43mtz\u001b[49m\u001b[43m=\u001b[49m\u001b[43mtz\u001b[49m\u001b[43m,\u001b[49m\n\u001b[32m   1014\u001b[39m \u001b[43m    \u001b[49m\u001b[43mnormalize\u001b[49m\u001b[43m=\u001b[49m\u001b[43mnormalize\u001b[49m\u001b[43m,\u001b[49m\n\u001b[32m   1015\u001b[39m \u001b[43m    \u001b[49m\u001b[43minclusive\u001b[49m\u001b[43m=\u001b[49m\u001b[43minclusive\u001b[49m\u001b[43m,\u001b[49m\n\u001b[32m   1016\u001b[39m \u001b[43m    \u001b[49m\u001b[43munit\u001b[49m\u001b[43m=\u001b[49m\u001b[43munit\u001b[49m\u001b[43m,\u001b[49m\n\u001b[32m   1017\u001b[39m \u001b[43m    \u001b[49m\u001b[43m*\u001b[49m\u001b[43m*\u001b[49m\u001b[43mkwargs\u001b[49m\u001b[43m,\u001b[49m\n\u001b[32m   1018\u001b[39m \u001b[43m\u001b[49m\u001b[43m)\u001b[49m\n\u001b[32m   1019\u001b[39m \u001b[38;5;28;01mreturn\u001b[39;00m DatetimeIndex._simple_new(dtarr, name=name)\n",
      "\u001b[31mTypeError\u001b[39m: DatetimeArray._generate_range() got an unexpected keyword argument 'closed'"
     ]
    }
   ],
   "source": [
    "#  Step through the PV_data day by day \n",
    "xfmt = mdates.DateFormatter('%H')\n",
    "for date in pd.date_range(start = pv_output_10s_int.index[0], end = pv_output_10s_int.index[-1],\n",
    "                         freq = '1D', inclusive = 'left'):\n",
    "    hours_xaxis = pv_output_10s_int.loc[date:date+datetime.timedelta(days = 1)].index\n",
    "    pv_one_day = pv_output_10s_int.loc[date:date+datetime.timedelta(days = 1)].values\n",
    "    f, ax = plt.subplots()\n",
    "    print('plotting for date',date.strftime('%Y%m%d'))\n",
    "    ax.plot(hours_xaxis,pv_one_day,'-o',markerfacecolor='None')\n",
    "    ax.grid(True)\n",
    "    ax.set_xlabel('Time of the day ')\n",
    "    ax.set_ylabel('panel output (kW)')\n",
    "    ax.xaxis.set_major_formatter(xfmt)\n",
    "    plt.show()"
   ]
  },
  {
   "cell_type": "code",
   "execution_count": 11,
   "metadata": {
    "id": "QcztnhveT1Tb"
   },
   "outputs": [],
   "source": [
    "# define invalide dates based on the curves above for sanity check\n",
    "# end date is not included\n",
    "# for example, the invalid days are [2017-03-10,2017-03-13), essentially [2017-03-10, 2017-03-12]\n",
    "invalid_dates = {'start':[datetime.datetime(2017,3,10), datetime.datetime(2017,3,13), datetime.datetime(2017,3,18), \n",
    "datetime.datetime(2017,3,31), datetime.datetime(2017,4,5,8,34,0), datetime.datetime(2017,5,6,18,50,0), datetime.datetime(2017,7,17), \n",
    "datetime.datetime(2017,9,8,8,59,0), datetime.datetime(2017,10,9,10,3,0), datetime.datetime(2017,11,5), datetime.datetime(2017,12,30), \n",
    "datetime.datetime(2018,1,1), datetime.datetime(2018,3,11), datetime.datetime(2018,4,2),datetime.datetime(2018,6,13), \n",
    "datetime.datetime(2018,8,22), datetime.datetime(2018,9,25), datetime.datetime(2018,10,16), datetime.datetime(2018,11,4), \n",
    "datetime.datetime(2019, 1, 28, 10, 29, 0), datetime.datetime(2019, 5, 22, 14, 18, 0), datetime.datetime(2019, 10, 27)],\n",
    "'end':[datetime.datetime(2017,3,13), datetime.datetime(2017,3,16), datetime.datetime(2017,3,20), datetime.datetime(2017,4,1), \n",
    "datetime.datetime(2017,4,5,9,51,0), datetime.datetime(2017,5,6,21,8,0), datetime.datetime(2017,7,18), datetime.datetime(2017,9,8,11,26,0), \n",
    "datetime.datetime(2017,10,9,12,12,0), datetime.datetime(2017,11,6), datetime.datetime(2018,1,1), datetime.datetime(2018,1,5), \n",
    "datetime.datetime(2018,3,13), datetime.datetime(2018,4,14),datetime.datetime(2018,6,14), datetime.datetime(2018,9,18), \n",
    "datetime.datetime(2018,10,1,6,0,0), datetime.datetime(2018,10,17), datetime.datetime(2018, 11, 26), datetime.datetime(2019, 1, 28, 11, 47, 0), \n",
    "datetime.datetime(2019, 5, 22, 17, 3, 0), datetime.datetime(2019, 10, 28)]}"
   ]
  },
  {
   "cell_type": "markdown",
   "metadata": {
    "id": "Vl5CO9uDT1Tc"
   },
   "source": [
    "## 4. Filter for invalid data"
   ]
  },
  {
   "cell_type": "markdown",
   "metadata": {},
   "source": [
    "### 4.1 Invalid dates filter"
   ]
  },
  {
   "cell_type": "code",
   "execution_count": 12,
   "metadata": {},
   "outputs": [],
   "source": [
    "invalid_dates_mask = pd.Series(False, index = pv_output_10s_int.index)\n",
    "\n",
    "for i in range(len(invalid_dates[\"start\"])):\n",
    "    start_idx = pd.Timestamp(invalid_dates['start'][i])\n",
    "    end_idx = pd.Timestamp(invalid_dates['end'][i])    \n",
    "    invalid_dates_mask.loc[start_idx:end_idx] = True"
   ]
  },
  {
   "cell_type": "markdown",
   "metadata": {
    "id": "bHVTfx2QT1Tc"
   },
   "source": [
    "### 4.2 Missing record filter"
   ]
  },
  {
   "cell_type": "code",
   "execution_count": 13,
   "metadata": {
    "id": "DCSX3Lk_T1Tc"
   },
   "outputs": [],
   "source": [
    "# Calculate raw record interval\n",
    "record_interval = record_times[1:] - record_times[:-1]\n",
    "\n",
    "# Consider interval > 1 hour as invalid (i.e., linear interpolation for > 1 hour is invalid)\n",
    "record_invalid_start = record_times[:-1][record_interval > np.timedelta64(1,'h')]\n",
    "record_invalid_end = record_times[1:][record_interval > np.timedelta64(1,'h')]\n",
    "\n",
    "missing_mask = pd.Series(False, index = pv_output_10s_int.index)\n",
    "\n",
    "for start,end in zip(record_invalid_start, record_invalid_end):\n",
    "    missing_mask.loc[start:end] = True"
   ]
  },
  {
   "cell_type": "code",
   "execution_count": 14,
   "metadata": {},
   "outputs": [
    {
     "name": "stdout",
     "output_type": "stream",
     "text": [
      "2017-03-12 01:59:00 2017-03-12 03:00:00\n",
      "2018-03-11 01:59:00 2018-03-11 03:00:00\n",
      "2019-03-10 01:59:00 2019-03-10 03:00:00\n"
     ]
    }
   ],
   "source": [
    "# check the invalid time stamps\n",
    "for start, end in zip(record_invalid_start,record_invalid_end):\n",
    "    print(start, end)"
   ]
  },
  {
   "cell_type": "markdown",
   "metadata": {
    "id": "_IYkd3SmT1Td"
   },
   "source": [
    "### 4.3 Night filter (PV_output<0)"
   ]
  },
  {
   "cell_type": "code",
   "execution_count": 15,
   "metadata": {
    "id": "IZngYLJIT1Td",
    "outputId": "3e6f15de-f572-4a72-dac6-c79b611222c6",
    "scrolled": true
   },
   "outputs": [
    {
     "data": {
      "text/plain": [
       "2017-01-03 08:14:20    0.010697\n",
       "2017-01-03 08:14:30    0.023494\n",
       "2017-01-03 08:14:40    0.036292\n",
       "2017-01-03 08:14:50    0.049089\n",
       "2017-01-03 08:15:00    0.061887\n",
       "                         ...   \n",
       "2019-10-26 17:58:40    0.020961\n",
       "2019-10-26 17:58:50    0.015540\n",
       "2019-10-26 17:59:00    0.010119\n",
       "2019-10-26 17:59:10    0.005942\n",
       "2019-10-26 17:59:20    0.001765\n",
       "Length: 3884410, dtype: float64"
      ]
     },
     "execution_count": 15,
     "metadata": {},
     "output_type": "execute_result"
    }
   ],
   "source": [
    "pv_output_valid = pv_output_10s_int[(~invalid_dates_mask) & (~missing_mask) & (pv_output_10s_int>0)]\n",
    "pv_output_valid"
   ]
  },
  {
   "cell_type": "code",
   "execution_count": null,
   "metadata": {},
   "outputs": [],
   "source": [
    "#  Inspect again for the valid data\n",
    "xfmt = mdates.DateFormatter('%H')\n",
    "all_times = pv_output_valid.index\n",
    "all_pv = pv_output_valid.values\n",
    "all_dates = np.asarray([times.date() for times in all_times])\n",
    "unique_dates = np.unique(all_dates)\n",
    "\n",
    "for date in unique_dates:\n",
    "    idx = np.where(all_dates==date)[0]\n",
    "    time_one_day = all_times[idx]\n",
    "    pv_one_day = all_pv[idx]\n",
    "    f, ax = plt.subplots()\n",
    "    print('plotting for date',date.strftime('%Y-%m-%d'))\n",
    "    ax.plot(time_one_day,pv_one_day,'-o',markerfacecolor='None')\n",
    "    ax.grid(True)\n",
    "    ax.set_xlabel('Time of the day')\n",
    "    ax.set_ylabel('panel output (kW)')\n",
    "    ax.xaxis.set_major_formatter(xfmt)\n",
    "    plt.show()"
   ]
  },
  {
   "cell_type": "code",
   "execution_count": 17,
   "metadata": {
    "id": "xdWxaaMST1Te"
   },
   "outputs": [],
   "source": [
    "# Store the PV output record. Freq = 10s\n",
    "pv_output_valid.to_pickle(os.path.join(output_folder,'pv_output_valid.pkl'))"
   ]
  },
  {
   "cell_type": "code",
   "execution_count": null,
   "metadata": {
    "id": "WbygdC2qT1Te"
   },
   "outputs": [],
   "source": []
  }
 ],
 "metadata": {
  "colab": {
   "name": "data_preprocess_PV.ipynb",
   "provenance": []
  },
  "kernelspec": {
   "display_name": "pytorch_env",
   "language": "python",
   "name": "python3"
  },
  "language_info": {
   "codemirror_mode": {
    "name": "ipython",
    "version": 3
   },
   "file_extension": ".py",
   "mimetype": "text/x-python",
   "name": "python",
   "nbconvert_exporter": "python",
   "pygments_lexer": "ipython3",
   "version": "3.12.3"
  }
 },
 "nbformat": 4,
 "nbformat_minor": 1
}
