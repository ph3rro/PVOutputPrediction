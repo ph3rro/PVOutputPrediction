{
 "cells": [
  {
   "cell_type": "code",
   "execution_count": null,
   "metadata": {
    "id": "jtbV67ZSlcAp"
   },
   "outputs": [],
   "source": [
    "# import packages \n",
    "import cv2\n",
    "import numpy as np\n",
    "import os\n",
    "import datetime\n",
    "import time\n",
    "\n",
    "%matplotlib inline\n",
    "\n",
    "# folder path and name, define your own paths here\n",
    "project_path = os.getcwd()\n",
    "video_folder = os.path.join(project_path,'input_videos') # input video folder\n",
    "image_folder = os.path.join(project_path,'snapshot_highfreq') # output image frames folder\n",
    "image_name_format = '%Y%m%d%H%M%S'\n",
    "\n",
    "# Operating parameter\n",
    "# Specify the frequency you want to capture the frames\n",
    "capture_interval = datetime.timedelta(seconds=60)  # in s\n",
    "\n",
    "# Specify the start and end date\n",
    "start_date = datetime.datetime(2018,10,2)\n",
    "end_date =  datetime.datetime(2018,10,3)"
   ]
  },
  {
   "cell_type": "code",
   "execution_count": null,
   "metadata": {
    "id": "F5qNRmjmlcAy"
   },
   "outputs": [],
   "source": [
    "def crop_central_image(img, x_length, y_length):\n",
    "    image_shape = np.array(img.shape[0:2])\n",
    "    cropped_shape = np.array([x_length, y_length])\n",
    "    x_low, y_low = ((image_shape - cropped_shape) / 2).astype('int')\n",
    "    x_high, y_high = ((image_shape + cropped_shape) / 2).astype('int')\n",
    "    img = img[x_low:x_high, y_low:y_high, :]\n",
    "    return img\n",
    "\n",
    "def listdir_noini(path):\n",
    "    f_list = []\n",
    "    for f in os.listdir(path):\n",
    "        _, file_extension = os.path.splitext(f)\n",
    "        if not file_extension == '.ini':\n",
    "            f_list.append(f)\n",
    "            \n",
    "    return sorted(f_list)\n",
    "\n",
    "def parse_video_name(video_name):\n",
    "    # ignore the file if it's an image file\n",
    "    _,extension = os.path.splitext(video_name)\n",
    "    if (extension == '.jpg') or (extension == '.db'):\n",
    "        return None, False\n",
    "    \n",
    "    # Interpret video file name into time stamp\n",
    "    if len(video_name) < 30:\n",
    "        video_name_format = \"%Y%m%d-%H%M%S-01.avi\"\n",
    "    else:\n",
    "        video_name = video_name.split('_')[-3]\n",
    "        video_name_format = \"%Y%m%d%H%M%S\"\n",
    "    \n",
    "    # obtaining initial time\n",
    "    try:\n",
    "        initial_time = datetime.datetime.strptime(video_name, video_name_format)\n",
    "    except:# there are some other files in the folder\n",
    "        print(\"can't handle \", video_name)\n",
    "        return None, False\n",
    "\n",
    "    return initial_time, True\n",
    "\n",
    "def get_dest_dir(img_time):\n",
    "    year_name = '{:04d}'.format(img_time.year)\n",
    "    month_name = '{:02d}'.format(img_time.month)\n",
    "    day_name = '{:02d}'.format(img_time.day)\n",
    "    return os.path.join(year_name,month_name,day_name)"
   ]
  },
  {
   "cell_type": "code",
   "execution_count": null,
   "metadata": {
    "colab": {
     "base_uri": "https://localhost:8080/",
     "height": 34
    },
    "executionInfo": {
     "elapsed": 6378,
     "status": "ok",
     "timestamp": 1599950804654,
     "user": {
      "displayName": "Andea Jewel Scott",
      "photoUrl": "",
      "userId": "15144577752603562183"
     },
     "user_tz": 420
    },
    "id": "sO3LHycNlcA6",
    "outputId": "d5dad4de-dde9-434c-9478-3f7c80a97e06",
    "scrolled": true
   },
   "outputs": [
    {
     "name": "stdout",
     "output_type": "stream",
     "text": [
      "Last time, snapshot is finished for:  2018-10-03 17:45:00\n"
     ]
    }
   ],
   "source": [
    "############### if start data is provided, please skip this cell!#############\n",
    "\n",
    "# if start date is not provided find start date of the current capture process\n",
    "snapped_list = []\n",
    "\n",
    "years_list = listdir_noini(os.path.join(image_folder))\n",
    "for year in years_list: # cycle through the years\n",
    "    months_list = listdir_noini(os.path.join(image_folder,year))\n",
    "    for month in months_list: # cycle through the months\n",
    "        dates_list  = listdir_noini(os.path.join(image_folder,year,month))\n",
    "        for date in dates_list: # cycle through each day\n",
    "            snapped_list += listdir_noini(os.path.join(image_folder,year,month,date))\n",
    "        \n",
    "start_date = datetime.datetime.strptime(sorted(snapped_list)[-1], image_name_format+'.jpg')\n",
    "print('Last time, snapshot is finished for: ',start_date)"
   ]
  },
  {
   "cell_type": "code",
   "execution_count": null,
   "metadata": {
    "colab": {
     "base_uri": "https://localhost:8080/",
     "height": 51
    },
    "executionInfo": {
     "elapsed": 1417,
     "status": "ok",
     "timestamp": 1599950811686,
     "user": {
      "displayName": "Andea Jewel Scott",
      "photoUrl": "",
      "userId": "15144577752603562183"
     },
     "user_tz": 420
    },
    "id": "X2jlvhR-lcBA",
    "outputId": "113a3a0c-df86-42a9-9ad4-99b8bd0e82ad",
    "scrolled": true
   },
   "outputs": [
    {
     "name": "stdout",
     "output_type": "stream",
     "text": [
      "processing  10 - 20181002\n",
      "processing  10 - 20181003\n"
     ]
    }
   ],
   "source": [
    "# Snapshot from video at ten second interval\n",
    "# Initialization: time and frame counter\n",
    "tic = time.process_time()\n",
    "frame_cnt = 0\n",
    "\n",
    "# Step through every single video, but only open the streams that are relevant\n",
    "# list all years  \n",
    "years_list = listdir_noini(os.path.join(video_folder))\n",
    "for year in years_list: # cycle through the years\n",
    "    months_list = listdir_noini(os.path.join(video_folder,year))\n",
    "    for month in months_list: # cycle through the months\n",
    "        dates_list  = listdir_noini(os.path.join(video_folder,year,month))\n",
    "        for date in dates_list: # cycle through each day\n",
    "            \n",
    "            # obatain all files in the current folder\n",
    "            curr_folder = os.path.join(video_folder,year,month,date)\n",
    "            video_filenames = listdir_noini(curr_folder)\n",
    "            print('processing ',month,'-',date)\n",
    "            # only process files in the defined date range\n",
    "            curr_date = datetime.datetime.strptime(date,'%Y%m%d')\n",
    "            if (curr_date<start_date) or (curr_date>end_date):\n",
    "                continue          \n",
    "            for video_name in video_filenames: # cycle through each file of the day\n",
    "                # Attempt to parse the filename\n",
    "                initial_time,is_relevant = parse_video_name(video_name)\n",
    "                # if the file is deemed irrelevant, move on to the next\n",
    "                if is_relevant == False:\n",
    "                    continue\n",
    "                \n",
    "                print('Capturing images from video stream:',video_name)\n",
    "                # find end_time of this video\n",
    "                end_time = datetime.datetime.strptime(video_name.split('_')[-2],image_name_format)\n",
    "                \n",
    "                # shift to the first n*10s \n",
    "                shift = datetime.timedelta(seconds= 10 + initial_time.second//10*10 - initial_time.second)  # in s\n",
    "                video_pos_time = shift.total_seconds() * 1000 # in ms\n",
    "                curr_time = initial_time + shift\n",
    "                \n",
    "                # open video stream\n",
    "                cap = cv2.VideoCapture(os.path.join(curr_folder,video_name))\n",
    "\n",
    "                while cap.isOpened():\n",
    "                    cap.set(0, video_pos_time)\n",
    "                    ret, frame = cap.read()\n",
    "                    \n",
    "                    if ret and (curr_time <= end_time):\n",
    "                        # prompt progress\n",
    "                        if curr_time.minute%10 == 0 and curr_time.second == 0:\n",
    "                            print('processing ',curr_time.strftime('%H%M%S'))\n",
    "                        \n",
    "                        # crop and save the central square\n",
    "                        frame = crop_central_image(frame,frame.shape[0],frame.shape[0])\n",
    "                        frame_filename = curr_time.strftime(image_name_format) + \".jpg\"\n",
    "                        \n",
    "                        # Create image folder if not exist yet\n",
    "                        dest_dir = get_dest_dir(curr_time)\n",
    "                        if not os.path.exists(os.path.join(image_folder, dest_dir)):\n",
    "                            os.makedirs(os.path.join(image_folder, dest_dir))\n",
    "                        cv2.imwrite(os.path.join(image_folder, dest_dir, frame_filename), frame)\n",
    "\n",
    "                        #Move forward in time    \n",
    "                        video_pos_time += capture_interval.total_seconds() * 1000  # in ms\n",
    "                        curr_time += capture_interval\n",
    "                    else :\n",
    "                        break\n",
    "                cap.release()\n",
    "            print('time_elapsed',time.process_time()-tic)\n"
   ]
  },
  {
   "cell_type": "code",
   "execution_count": null,
   "metadata": {
    "id": "GoDHqVXKlcBE"
   },
   "outputs": [],
   "source": []
  }
 ],
 "metadata": {
  "colab": {
   "collapsed_sections": [],
   "name": "data_preprocess_snapshot_only.ipynb",
   "provenance": []
  },
  "interpreter": {
   "hash": "9322ca3cd7481d8650ffd65c18f3f7f5e9a5a0dece0d3c5f64314ef7cb803d0a"
  },
  "kernelspec": {
   "display_name": "Python 3.7.7 ('py37')",
   "language": "python",
   "name": "python3"
  },
  "language_info": {
   "codemirror_mode": {
    "name": "ipython",
    "version": 3
   },
   "file_extension": ".py",
   "mimetype": "text/x-python",
   "name": "python",
   "nbconvert_exporter": "python",
   "pygments_lexer": "ipython3",
   "version": "3.7.7"
  }
 },
 "nbformat": 4,
 "nbformat_minor": 0
}
